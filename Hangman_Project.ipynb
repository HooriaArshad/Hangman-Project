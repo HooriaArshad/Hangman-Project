{
  "nbformat": 4,
  "nbformat_minor": 0,
  "metadata": {
    "colab": {
      "provenance": [],
      "authorship_tag": "ABX9TyNzOPHKvXfSDQco0L5dyAc4",
      "include_colab_link": true
    },
    "kernelspec": {
      "name": "python3",
      "display_name": "Python 3"
    },
    "language_info": {
      "name": "python"
    }
  },
  "cells": [
    {
      "cell_type": "markdown",
      "metadata": {
        "id": "view-in-github",
        "colab_type": "text"
      },
      "source": [
        "<a href=\"https://colab.research.google.com/github/HooriaArshad/Hangman-Project/blob/main/Hangman_Project.ipynb\" target=\"_parent\"><img src=\"https://colab.research.google.com/assets/colab-badge.svg\" alt=\"Open In Colab\"/></a>"
      ]
    },
    {
      "cell_type": "code",
      "source": [
        "import random\n",
        "\n",
        "words = [\"python\", \"hangman\", \"programming\", \"developer\"]\n",
        "word = random.choice(words)\n",
        "guesses = [\"_\"] * len(word)\n",
        "attempts = 6\n",
        "used = set()\n",
        "\n",
        "print(\"🎮 Welcome to Hangman!\")\n",
        "print(\" \".join(guesses))\n",
        "\n",
        "while attempts > 0 and \"_\" in guesses:\n",
        "    guess = input(\"🔤 Guess a letter: \").lower()\n",
        "\n",
        "    if guess in used:\n",
        "        print(\"⚠️ Already guessed!\")\n",
        "        continue\n",
        "\n",
        "    used.add(guess)\n",
        "\n",
        "    if guess in word:\n",
        "        for i, letter in enumerate(word):\n",
        "            if letter == guess:\n",
        "                guesses[i] = guess\n",
        "    else:\n",
        "        attempts -= 1\n",
        "        print(\"❌ Wrong guess!\")\n",
        "\n",
        "    print(\"\\nWord:\", \" \".join(guesses))\n",
        "    print(f\"❤️ Attempts left: {attempts}\")\n",
        "\n",
        "if \"_\" not in guesses:\n",
        "    print(\"\\n🏆 Congratulations! You guessed the word!\")\n",
        "else:\n",
        "    print(f\"\\n💀 Game Over! The word was: {word}\")\n"
      ],
      "metadata": {
        "id": "opkN-KPk7ffJ",
        "colab": {
          "base_uri": "https://localhost:8080/"
        },
        "outputId": "734818a5-0c55-415f-f840-322221fadd8d"
      },
      "execution_count": 1,
      "outputs": [
        {
          "output_type": "stream",
          "name": "stdout",
          "text": [
            "🎮 Welcome to Hangman!\n",
            "_ _ _ _ _ _\n",
            "🔤 Guess a letter: h\n",
            "\n",
            "Word: _ _ _ h _ _\n",
            "❤️ Attempts left: 6\n",
            "🔤 Guess a letter: p\n",
            "\n",
            "Word: p _ _ h _ _\n",
            "❤️ Attempts left: 6\n",
            "🔤 Guess a letter: y\n",
            "\n",
            "Word: p y _ h _ _\n",
            "❤️ Attempts left: 6\n",
            "🔤 Guess a letter: t\n",
            "\n",
            "Word: p y t h _ _\n",
            "❤️ Attempts left: 6\n",
            "🔤 Guess a letter: o\n",
            "\n",
            "Word: p y t h o _\n",
            "❤️ Attempts left: 6\n",
            "🔤 Guess a letter: n\n",
            "\n",
            "Word: p y t h o n\n",
            "❤️ Attempts left: 6\n",
            "\n",
            "🏆 Congratulations! You guessed the word!\n"
          ]
        }
      ]
    }
  ]
}